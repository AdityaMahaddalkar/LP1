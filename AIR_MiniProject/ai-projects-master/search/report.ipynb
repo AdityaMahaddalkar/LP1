{
 "cells": [
  {
   "cell_type": "markdown",
   "metadata": {
    "hideCode": false,
    "hidePrompt": false
   },
   "source": [
    "# Introduction"
   ]
  },
  {
   "cell_type": "markdown",
   "metadata": {
    "hideCode": false,
    "hidePrompt": false
   },
   "source": [
    "The [eight puzzle](http://www.d.umn.edu/~jrichar4/8puz.html) provides an ideal environment for exploring one of the fundamental problems in Artificial Intelligence: searching for the optimal solution path. Although the eight puzzle is a simplified environment, the general techniques of search employed to find the solution can translate into many domains, including [laying out components on a computer chip](https://en.wikipedia.org/wiki/Very-large-scale_integration) or finding the [best route between two cities](https://www.microsoft.com/en-us/research/publication/computing-the-shortest-path-a-search-meets-graph-theory/). Two different search strategies were explored in this project: [a-star](http://web.mit.edu/eranki/www/tutorials/search/) and [local beam search](http://aicat.inf.ed.ac.uk/entry.php?id=660). A-star search was tested with 2 heuristics, while local beam was tested with several values for the beam width. "
   ]
  },
  {
   "cell_type": "code",
   "execution_count": 1,
   "metadata": {
    "collapsed": false,
    "hideCode": false,
    "hidePrompt": false
   },
   "outputs": [],
   "source": [
    "from eight_puzzle import Puzzle"
   ]
  },
  {
   "cell_type": "markdown",
   "metadata": {
    "hideCode": false,
    "hidePrompt": false
   },
   "source": [
    "# Approach"
   ]
  },
  {
   "cell_type": "markdown",
   "metadata": {
    "hideCode": false,
    "hidePrompt": false
   },
   "source": [
    "The complete project was coded in Python. The eight_puzzle was implemented as a class with attributes to represent the state of board, a number of utility methods to aid in the solution of the puzzle and visualizing the solution path, and most importantly, the two methods for solving the puzzle. The solution of the eight puzzle is the sequence of blank tile moves that lead from the starting state to the goal state. As the solution is a path, my approach used Python dictionaries to keep track of all nodes considered in each search. Each node includes the current state (the position of all tiles on the board), the parent state, and the action required to get from the parent state to the child state. When the goal state is reached, the algorithm can then transverse backwards through the dictionary starting at the goal state and linking each child state to its parent while recording the series of moves of the blank tile. This solution path can then be displayed and the length of the solution path can be determined. The efficiency of each search can be quantified with an effective branching factor calculated using the length of the solution path and the number of nodes generated during the search. \n",
    "\n",
    "## Code Files\n",
    "\n",
    "__eight_puzzle.py__\n",
    "\n",
    "Contains the eight puzzle class with all attributes and methods to represent and solve the puzzle. \n",
    "\n",
    "__play_puzzle.py__\n",
    "\n",
    "Contains code for interacting with the puzzle from the command line or as a series of commands contained in a text file. \n",
    "\n",
    "## Additional Folders\n",
    "\n",
    "__tests/__\n",
    "\n",
    "Contains text files with test cases for the eight puzzle\n",
    "\n",
    "__images/__\n",
    "\n",
    "Contains graphs main in R used in this report. \n",
    "\n",
    "\n",
    "## Required Commands\n",
    "\n",
    "* __-setState__ [state] \n",
    "\n",
    "    Set the state of the puzzle to the specified argument. The format of the state is \"b12 345 678\"\n",
    "    where each triple represents a row and \"b\" is the blank tile (the only tile that can be moved).\n",
    "    \n",
    "    \n",
    "* __-randomizeState__ [n] \n",
    "\n",
    "    Randomly set the state of the puzzle by taking a random series of n integer actions backward from the goal state. As only \n",
    "    [half of the initial states of the eight puzzle are solvable](https://heuristicswiki.wikispaces.com/N+-+Puzzle),\n",
    "    taking a series of steps backward from the goal state ensures that the resulting state will have a solution.\n",
    "    \n",
    "    \n",
    "* __-printState__\n",
    "\n",
    "    Displays the current state of the puzzle in the form \"b12 345 678\"\n",
    "    \n",
    "    \n",
    "* __-move__ [direction]\n",
    "\n",
    "    Move the blank one place in the specified direction. The move must be one of the following: [\"up\", \"down\", \"left\", \"right\"] \n",
    "    Allowed moves will be determined by the current state of the puzzle.\n",
    "    \n",
    "    \n",
    "* __-solveAStar__ [hueristic]\n",
    "\n",
    "    Solve the eight puzzle using the specified heuristic. The choices for the heuristic are 'h1' or 'h2'. 'h1' counts the \n",
    "    number of misplaced tiles from the goal state while h2 represents the sum of the Manhattan distances of each tile from its\n",
    "    correct position in the goal state. After solving the puzzle, the solution path should be printed as a series of actions to \n",
    "    move from the starting state to the goal state. The length of the solution path should also be displayed. \n",
    "    \n",
    "    \n",
    "* __-solveBeam__ [k] \n",
    "\n",
    "    Solve the eight puzzle using local beam search with the beam width equal to the integer k. In general, a larger value of k \n",
    "    is more likely to find a solution becuase the search space is larger, but larger k values will require retaining more nodes \n",
    "    in memory. After solving the puzzle, the solution path should be printed as a series of actions to \n",
    "    move from the starting state to the goal state. The length of the solution path should also be displayed.  \n",
    "    \n",
    "    \n",
    "* __-maxNodes__ [n]\n",
    "\n",
    "    The maximum integer n number  of nodes to generate during a search. A node is generated when its parent state is expanded. \n",
    "    When this limit is exceeded, the code will display an error message. If max nodes is not specified, a default maximum\n",
    "    number of 10000 nodes is passed to the method. \n",
    "    \n",
    "    \n",
    "* __-readCommands__ [file.txt]\n",
    "    \n",
    "    Read and execute a series of commands from a text file. The commands are specified in the same format as the commands for \n",
    "    the command line except without the dashes. An example text file is shown below:\n",
    "    \n",
    "    ```setState \"3b2 615 748\" printState solveBeam 50 maxNodes 2000\n",
    "    ```\n",
    "\n",
    "## Additional Commands\n",
    "\n",
    "\n",
    "* __-prettyPrintState__\n",
    "\n",
    "    Displays the current state in an aesthetic and understandable format. \n",
    "    \n",
    "    \n",
    "* __-prettyPrintSolution__\n",
    "\n",
    "    Displays the solution as a sequence of moves in an aesthetic and understandable format. "
   ]
  },
  {
   "cell_type": "markdown",
   "metadata": {
    "hideCode": false,
    "hidePrompt": false
   },
   "source": [
    "# Command Implementation \n",
    "\n",
    "To demonstrate the functionality of the commands, I explain the code that implements the command as well as examples of running the command from the command line. I also show examples of reading commands from a specified text file."
   ]
  },
  {
   "cell_type": "markdown",
   "metadata": {
    "hideCode": false,
    "hidePrompt": false
   },
   "source": [
    "## setState and printState\n",
    "\n",
    "setState and printState are both self-explanatory as setState can be used to set the state of the puzzle to any legal configuration and print state can be used to display the state and confirm that the state is as expected. setState checks to make sure that the string is a legal representation of the eight puzzle and then sets the state. printState iterates through the puzzle board and diplays the state in the same format as that used to set the state. \n",
    "\n",
    "```python \n",
    "\n",
    "def set_state(self, state_string):\n",
    "        # Set the state of the puzzle to state_string in format \"b12 345 678\"\n",
    "\n",
    "        # Check string for correct length\n",
    "        if len(state_string) != 11:\n",
    "            print(\"String Length is not correct!\")\n",
    "\n",
    "        # Keep track of elements that have been added to board\n",
    "        added_elements = []\n",
    "\n",
    "        # Enumerate through all the positions in the string\n",
    "        for row_index, row in enumerate(state_string.split(\" \")): \n",
    "            for col_index, element in enumerate(row):\n",
    "                # Check to make sure invalid character not in string\n",
    "                if element not in ['b', '1', '2', '3', '4', '5', '6', '7', '8']:\n",
    "                    print(\"Invalid character in state:\", element)\n",
    "                    break\n",
    "                else:\n",
    "                    if element == \"b\":\n",
    "                        # Check to see if blank has been added twice\n",
    "                        if element in added_elements:\n",
    "                            print(\"The blank was added twice\")\n",
    "                            break\n",
    "\n",
    "                        # Set the blank tile to a 0 on the puzzle\n",
    "                        else:\n",
    "                            self.state[row_index][col_index] = 0\n",
    "                            added_elements.append(\"b\")\n",
    "                    else:\n",
    "                        # Check to see if tile has already been added to board\n",
    "                        if int(element) in added_elements:\n",
    "                            print(\"Tile {} has been added twice\".format(element))\n",
    "                            break\n",
    "\n",
    "                        else:\n",
    "                            # Set the correct tile on the board\n",
    "                            self.state[row_index][col_index] = int(element)\n",
    "                            added_elements.append(int(element))\n",
    "```\n",
    "\n",
    "\n",
    "``` python\n",
    "\n",
    "def print_state(self):\n",
    "        # Display the state of the board in the format \"b12 345 678\"\n",
    "        str_state = []\n",
    "\n",
    "        # Iterate through all the tiles\n",
    "        for row in self.state:\n",
    "            for element in row:\n",
    "                if element == 0:\n",
    "                    str_state.append(\"b\")\n",
    "                else:\n",
    "                    str_state.append(str(element))\n",
    "        \n",
    "        # Print out the resulting state       \n",
    "        print(\"\".join(str_state[0:3]), \"\".join(str_state[3:6]), \"\".join(str_state[6:9]))\n",
    "        \n",
    "``` "
   ]
  },
  {
   "cell_type": "markdown",
   "metadata": {
    "hideCode": false,
    "hidePrompt": false
   },
   "source": [
    "The following code block shows an example of setting the state to \"325 678 b14\" and displaying the result in both string format and prettyPrint format. The 0 in the pretty printed state is the blank tile. "
   ]
  },
  {
   "cell_type": "code",
   "execution_count": 2,
   "metadata": {
    "collapsed": false,
    "hideCode": false,
    "hidePrompt": false
   },
   "outputs": [
    {
     "name": "stdout",
     "output_type": "stream",
     "text": [
      "Current puzzle state:\n",
      "325 678 b14\n",
      "\n",
      "Current State\n",
      "-------------\n",
      "| 3 | 2 | 5 |\n",
      "-------------\n",
      "| 6 | 7 | 8 |\n",
      "-------------\n",
      "| 0 | 1 | 4 |\n"
     ]
    }
   ],
   "source": [
    "%run play_puzzle.py -setState \"325 678 b14\" -printState -prettyPrintState"
   ]
  },
  {
   "cell_type": "markdown",
   "metadata": {
    "hideCode": false,
    "hidePrompt": false
   },
   "source": [
    "## randomizeState\n",
    "\n",
    "This method takes a random sequence of \"n\" allowed moves backwards from the goal state. The resulting state will be solvable. The implementation first sets the state of the puzzle to the goal state, then, for n iterations, the code finds the list of available moves and takes on at random. The state is then set to the result of the move for the next iteration."
   ]
  },
  {
   "cell_type": "markdown",
   "metadata": {
    "hideCode": false,
    "hidePrompt": false
   },
   "source": [
    "``` python\n",
    "def randomize_state(self, n):\n",
    "        # Take a random series of moves backwards from the goal state\n",
    "        # Sets the current state of the puzzle to a state thta is guaranteed to be solvable\n",
    "\n",
    "        current_state = (self.goal_state)\n",
    "        \n",
    "        # Iterate through the number of moves\n",
    "        for i in range(n):\n",
    "            available_actions, _, _ = self.get_available_actions(current_state)\n",
    "            random_move = random.choice(available_actions)\n",
    "            current_state = self.move(current_state, random_move)\n",
    "          \n",
    "        # Set the state of the puzzle to the random state  \n",
    "        self.state = current_state\n",
    "        \n",
    "```"
   ]
  },
  {
   "cell_type": "markdown",
   "metadata": {
    "hideCode": false,
    "hidePrompt": false
   },
   "source": [
    "The following code block shows an example of randomizing the state by taking 50 random steps from the goal state. The code also displays the state after randomizing in both string format and prettyPrint format."
   ]
  },
  {
   "cell_type": "code",
   "execution_count": 3,
   "metadata": {
    "collapsed": false,
    "hideCode": false,
    "hidePrompt": false
   },
   "outputs": [
    {
     "name": "stdout",
     "output_type": "stream",
     "text": [
      "Current puzzle state:\n",
      "154 3b2 678\n",
      "\n",
      "Current State\n",
      "-------------\n",
      "| 1 | 5 | 4 |\n",
      "-------------\n",
      "| 3 | 0 | 2 |\n",
      "-------------\n",
      "| 6 | 7 | 8 |\n"
     ]
    }
   ],
   "source": [
    "%run play_puzzle.py -randomizeState 50 -printState -prettyPrintState"
   ]
  },
  {
   "cell_type": "markdown",
   "metadata": {
    "hideCode": false,
    "hidePrompt": false
   },
   "source": [
    "## move\n",
    "\n",
    "This method moves the blank one spot in the specified direction. If the move is not allowed based on the current state of the puzzle, a message is displayed. The move is made as a series of else if statements and the new state is returned as a list. "
   ]
  },
  {
   "cell_type": "markdown",
   "metadata": {
    "hideCode": false,
    "hidePrompt": false
   },
   "source": [
    "``` python\n",
    "\n",
    "def move(self, state, action):\n",
    "        # Move the blank in the specified direction\n",
    "        # Returns the new state resulting from the move\n",
    "        available_actions, blank_row, blank_column = self.get_available_actions(state)\n",
    "\n",
    "        new_state = copy.deepcopy(state)\n",
    "\n",
    "        # Check to make sure action is allowed given board state\n",
    "        if action not in available_actions:\n",
    "            print(\"Move not allowed\\nAllowed moves:\", available_actions)\n",
    "            return False\n",
    "\n",
    "        # Execute the move as a series of if statements\n",
    "        else:\n",
    "            if action == \"down\":\n",
    "                tile_to_move = state[blank_row + 1][blank_column]\n",
    "                new_state[blank_row][blank_column] = tile_to_move\n",
    "                new_state[blank_row + 1][blank_column] = 0\n",
    "            elif action == \"up\":\n",
    "                tile_to_move = state[blank_row - 1][blank_column]\n",
    "                new_state[blank_row][blank_column] = tile_to_move\n",
    "                new_state[blank_row - 1][blank_column] = 0\n",
    "            elif action == \"right\":\n",
    "                tile_to_move = state[blank_row][blank_column + 1]\n",
    "                new_state[blank_row][blank_column] = tile_to_move\n",
    "                new_state[blank_row][blank_column + 1] = 0\n",
    "            elif action == \"left\":\n",
    "                tile_to_move = state[blank_row][blank_column - 1]\n",
    "                new_state[blank_row][blank_column] = tile_to_move\n",
    "                new_state[blank_row][blank_column -1] = 0\n",
    "                \n",
    "        return new_state\n",
    "```"
   ]
  },
  {
   "cell_type": "markdown",
   "metadata": {
    "hideCode": false,
    "hidePrompt": false
   },
   "source": [
    "The following two examples first illustrate taking a valid move and then an invalid move. (The puzzle is first set to the goal state for demonstration purposes.) "
   ]
  },
  {
   "cell_type": "markdown",
   "metadata": {
    "hideCode": false,
    "hidePrompt": false
   },
   "source": [
    "Valid move: moving \"right\" from the goal state:"
   ]
  },
  {
   "cell_type": "code",
   "execution_count": 4,
   "metadata": {
    "collapsed": false,
    "hideCode": false,
    "hidePrompt": false
   },
   "outputs": [
    {
     "name": "stdout",
     "output_type": "stream",
     "text": [
      "Current puzzle state:\n",
      "b12 345 678\n"
     ]
    }
   ],
   "source": [
    "%run play_puzzle.py -setState \"b12 345 678\" -move \"right\" -printState"
   ]
  },
  {
   "cell_type": "markdown",
   "metadata": {
    "hideCode": false,
    "hidePrompt": false
   },
   "source": [
    "Invalid move: moving \"up\" from the goal state:"
   ]
  },
  {
   "cell_type": "code",
   "execution_count": 5,
   "metadata": {
    "collapsed": false,
    "hideCode": false,
    "hidePrompt": false
   },
   "outputs": [
    {
     "name": "stdout",
     "output_type": "stream",
     "text": [
      "Move not allowed\n",
      "Allowed moves: ['right', 'down']\n"
     ]
    }
   ],
   "source": [
    "%run play_puzzle.py -setState \"b12 345 678\" -move \"up\""
   ]
  },
  {
   "cell_type": "markdown",
   "metadata": {
    "hideCode": false,
    "hidePrompt": false
   },
   "source": [
    "## solveAStar\n",
    "\n",
    "The main part of the a-star search code is a loop that runs until either a solution is found or the maximum number of nodes is generated. On each iteration, the code finds the available moves from the current state of the puzzle, and then checks to make sure that these moves do not result in a state that has already been expanded or is already on the frontier. If the move satisfies these conditions, the total cost of the move is then evaluated by taking the path cost of the resulting state plus the heuristic of the resulting state (see background on A-Star below). The state that results from the move is then added to the priority queue and at the end of the iteration, the priority queue is sorted by total cost. At the end of each iteration, the best state is chosen from the front of the priority queue and expanded. The node that is expanded will then be added to the expanded_nodes dictionary in order to generate the solution path at the end of the loop. The states that are not expanded on an iteration will be added to the frontier in order to keep track of which nodes have been generated but not expanded. The goal check occurs when a node is expanded rather than when it is generated because it might be possible that the first time the goal state is encountered is not the lowest cost path to the goal. Once a solution is found, the expanded_nodes dictionary is passed to another function that generates and displays the solution path.  The total number of nodes generated is the sum of the nodes in the frontier_nodes dictionary and the expanded_nodes dictionary. \n",
    "\n",
    "### Background on A-star search\n",
    "\n",
    "A-star search is a powerful algorithm for finding an optimal solution path. A-star search chooses the next state based on the total cost of all nodes on the frontier (those that have been generated but not yet expanded). The total cost of a node is defined as \n",
    "\n",
    "$$f(state) = g(state) + h(state) $$\n",
    "\n",
    "\n",
    "f(state), the total cost of the state, is the sum of g(state), the path cost to get to the state, and h(state), the heuristic function evaluated at the state. In the eight puzzle, the path cost is simply the depth of the state, or the number of moves to get from the start state to the goal state because each move incurs the same cost. The heuristic is either h1, the number of tiles misplaced from their position in the goal state, or h2, the sum of the [Manhattan distances](https://xlinux.nist.gov/dads/HTML/manhattanDistance.html) of all tiles from their position in the goal state. The heuristic is essentially an estimate of the remaining path distance from the state to the goal.\n",
    "\n",
    "A-star implements a priority queue, where the frontier nodes in the queue are ordered by total cost with the lowest cost nodes at the front of the queue. Each iteration, the lowest cost node (first in the queue) is expanded and then removed from the queue. My algorithm implements a priority queue, as well as a dictionary to keep track of the expanded nodes and a dictionary to keep track of the nodes on the frontier. The solution path is the sequence of actions from the start state to the goal state, the solution length is the number of actions required, and the number of nodes considered is the number of nodes expanded plus the number of nodes on the frontier. \n",
    "\n",
    "A-star search is optimal (it finds the shortest solution path) and complete if the heuristic is both [admissible](https://en.wikipedia.org/wiki/Admissible_heuristic) and [consistent](https://en.wikipedia.org/wiki/Consistent_heuristic). Admissibility means that the heuristic never overestimates the distance to the goal state. A heuristic is consistent if the estimate to the goal for any node is always less than or equal to the estimate to the goal for any neighboring vertex plus the path cost of reaching that vertex. (This is a general form of the triangle inequality). \n",
    "\n",
    "Both the h1 and h2 heuristics are admissible and consistent guaranteeing that they will find the optimal solution if it exists. However, the two heuristics are not equally efficient as will be demonstrated in the calculation of the effective branching factors. "
   ]
  },
  {
   "cell_type": "markdown",
   "metadata": {
    "hideCode": false,
    "hidePrompt": false
   },
   "source": [
    "``` python\n",
    "def a_star(self, heuristic=\"h2\", max_nodes=10000, print_solution=True):\n",
    "        # Performs a-star search\n",
    "        # Prints the list of solution moves and the solution length\n",
    "\n",
    "        # Need a dictionary for the frontier and for the expanded nodes\n",
    "        frontier_nodes = {}\n",
    "        expanded_nodes = {}\n",
    "        \n",
    "        self.starting_state = copy.deepcopy(self.state)\n",
    "        current_state = copy.deepcopy(self.state)\n",
    "        # Node index is used for indexing the dictionaries and to keep \n",
    "        # track of the number of nodes expanded\n",
    "        node_index = 0\n",
    "\n",
    "        # Set the first element in both dictionaries to the starting state\n",
    "        # This is the only node that will be in both dictionaries\n",
    "        expanded_nodes[node_index] = {\"state\": current_state, \"parent\": \"root\", \n",
    "                    \"action\": \"start\",\n",
    "                    \"total_cost\": self.calculate_total_cost(0, current_state, heuristic),\n",
    "                     \"depth\": 0}\n",
    "        \n",
    "        frontier_nodes[node_index] = {\"state\": current_state, \"parent\": \"root\", \n",
    "                    \"action\": \"start\", \n",
    "                    \"total_cost\": self.calculate_total_cost(0, current_state, heuristic),\n",
    "                     \"depth\": 0}\n",
    "        \n",
    "\n",
    "        failure = False\n",
    "\n",
    "        # all_nodes keeps track of all nodes on the frontier and is the priority queue. \n",
    "        # Each element in the list is a tuple consisting of node index and total cost of \n",
    "        #the node. This will be sorted by the total cost and serve as the priority queue.\n",
    "        all_frontier_nodes = [(0, frontier_nodes[0][\"total_cost\"])]\n",
    "\n",
    "        # Stop when maximum nodes have been considered\n",
    "        while not failure:\n",
    "\n",
    "            # Get current depth of state for use in total cost calculation\n",
    "            current_depth = 0\n",
    "            for node_num, node in expanded_nodes.items():\n",
    "                if node[\"state\"] == current_state:\n",
    "                    current_depth = node[\"depth\"]\n",
    "\n",
    "            # Find available actions corresponding to current state\n",
    "            available_actions, _, _ = self.get_available_actions(current_state)\n",
    "\n",
    "            # Iterate through possible actions \n",
    "            for action in available_actions:\n",
    "                repeat = False\n",
    "\n",
    "                # If max nodes reached, break out of loop\n",
    "                if node_index >= max_nodes:\n",
    "                    failure = True\n",
    "                    print(\"No Solution Found in first {} nodes generated\".format(max_nodes))\n",
    "                    self.num_nodes_generated = max_nodes\n",
    "                    break\n",
    "\n",
    "                # Find the new state corresponding to the action and calculate total cost\n",
    "                new_state = self.move(current_state, action)\n",
    "                new_state_parent = copy.deepcopy(current_state)\n",
    "\n",
    "                # Check to see if new state has already been expanded\n",
    "                for expanded_node in expanded_nodes.values():\n",
    "                    if expanded_node[\"state\"] == new_state:\n",
    "                        if expanded_node[\"parent\"] == new_state_parent:\n",
    "                            repeat = True\n",
    "\n",
    "                # Check to see if new state and parent is on the frontier\n",
    "                # The same state can be added twice to the frontier if the parent state \n",
    "                # is different\n",
    "                for frontier_node in frontier_nodes.values():\n",
    "                    if frontier_node[\"state\"] == new_state:\n",
    "                        if frontier_node[\"parent\"] == new_state_parent:\n",
    "                            repeat = True\n",
    "\n",
    "                # If new state has already been expanded or is on the frontier, \n",
    "                # continue with next action     \n",
    "                if repeat:\n",
    "                    continue\n",
    "\n",
    "                else:\n",
    "                    # Each action represents another node generated\n",
    "                    node_index += 1\n",
    "                    depth = current_depth + 1\n",
    "\n",
    "                    # Total cost is \n",
    "                    # path length (number of steps from starting state) + heuristic\n",
    "                    new_state_cost = self.calculate_total_cost(depth, new_state, heuristic)\n",
    "\n",
    "                    # Add the node index and total cost to the all_nodes list\n",
    "                    all_frontier_nodes.append((node_index, new_state_cost))\n",
    "\n",
    "                    # Add the node to the frontier \n",
    "                    frontier_nodes[node_index] = {\"state\": new_state, \n",
    "                            \"parent\": new_state_parent, \"action\": action, \n",
    "                            \"total_cost\": new_state_cost, \"depth\": current_depth + 1}\n",
    "\n",
    "            # Sort all the nodes on the frontier by total cost\n",
    "            all_frontier_nodes = sorted(all_frontier_nodes, key=lambda x: x[1])\n",
    "\n",
    "            # If the number of nodes generated does not exceed max nodes, \n",
    "            # find the best node and set the current state to that state\n",
    "            if not failure:\n",
    "                # The best node will be at the front of the queue\n",
    "                # After selecting the node for expansion, remove it from the queue\n",
    "                best_node = all_frontier_nodes.pop(0)\n",
    "                best_node_index = best_node[0]\n",
    "                best_node_state = frontier_nodes[best_node_index][\"state\"]\n",
    "                current_state = best_node_state\n",
    "\n",
    "                # Move the node from the frontier to the expanded nodes\n",
    "                expanded_nodes[best_node_index] = (frontier_nodes.pop(best_node_index))\n",
    "                \n",
    "                # Check if current state is goal state\n",
    "                if self.goal_check(best_node_state):\n",
    "                    # Create attributes for the expanded nodes and the frontier nodes\n",
    "                    self.expanded_nodes = expanded_nodes\n",
    "                    self.frontier_nodes = frontier_nodes\n",
    "                    self.num_nodes_generated = node_index + 1\n",
    "\n",
    "                    # Display the solution path\n",
    "                    self.success(expanded_nodes, node_index, print_solution)\n",
    "                    break\n",
    "```"
   ]
  },
  {
   "cell_type": "markdown",
   "metadata": {
    "hideCode": false,
    "hidePrompt": false
   },
   "source": [
    "The following example shows solving the puzzle from the state \"312 475 68b\" with a-star using the h1 heuristic and the default number of max nodes (10000). This puzzle can be solved in four moves and the solution is printed out in a pretty format to see the sequence of moves.  "
   ]
  },
  {
   "cell_type": "code",
   "execution_count": 6,
   "metadata": {
    "collapsed": false,
    "hideCode": false,
    "hidePrompt": false
   },
   "outputs": [
    {
     "name": "stdout",
     "output_type": "stream",
     "text": [
      "Solution found!\n",
      "Solution Length:  4\n",
      "Solution Path ['start', 'left', 'up', 'left', 'up', 'goal']\n",
      "Total nodes generated: 12\n",
      "\n",
      "Starting State\n",
      "-------------\n",
      "| 3 | 1 | 2 |\n",
      "-------------\n",
      "| 4 | 7 | 5 |\n",
      "-------------\n",
      "| 6 | 8 | 0 |\n",
      "\n",
      "Depth: 1\n",
      "-------------\n",
      "| 3 | 1 | 2 |\n",
      "-------------\n",
      "| 4 | 7 | 5 |\n",
      "-------------\n",
      "| 6 | 0 | 8 |\n",
      "\n",
      "Depth: 2\n",
      "-------------\n",
      "| 3 | 1 | 2 |\n",
      "-------------\n",
      "| 4 | 0 | 5 |\n",
      "-------------\n",
      "| 6 | 7 | 8 |\n",
      "\n",
      "Depth: 3\n",
      "-------------\n",
      "| 3 | 1 | 2 |\n",
      "-------------\n",
      "| 0 | 4 | 5 |\n",
      "-------------\n",
      "| 6 | 7 | 8 |\n",
      "\n",
      "GOAL!!!!!!!!!\n",
      "-------------\n",
      "| 0 | 1 | 2 |\n",
      "-------------\n",
      "| 3 | 4 | 5 |\n",
      "-------------\n",
      "| 6 | 7 | 8 |\n",
      "\n",
      "\n"
     ]
    }
   ],
   "source": [
    "%run play_puzzle.py -setState \"312 475 68b\" -solveAStar h1 -prettyPrintSolution"
   ]
  },
  {
   "cell_type": "markdown",
   "metadata": {
    "hideCode": false,
    "hidePrompt": false
   },
   "source": [
    "As can be seen, a-star using the h1 heuristic finds the optimal (shortest path cost) solution. "
   ]
  },
  {
   "cell_type": "markdown",
   "metadata": {
    "hideCode": false,
    "hidePrompt": false
   },
   "source": [
    "The following example shows what happens if max nodes is specified and the puzzle is not able to find a solution within the maximum number of nodes to consider. "
   ]
  },
  {
   "cell_type": "code",
   "execution_count": 7,
   "metadata": {
    "collapsed": false,
    "hideCode": false,
    "hidePrompt": false
   },
   "outputs": [
    {
     "name": "stdout",
     "output_type": "stream",
     "text": [
      "No Solution Found in first 10 nodes generated\n"
     ]
    }
   ],
   "source": [
    "%run play_puzzle.py -setState \"7b2 853 641\" -solveAStar h1 -maxNodes 10"
   ]
  },
  {
   "cell_type": "markdown",
   "metadata": {
    "hideCode": false,
    "hidePrompt": false
   },
   "source": [
    "This is an unsolvable puzzle, and as can be seen, no solution is found (try increasing the maximum number of nodes and give your computer some exercise!)"
   ]
  },
  {
   "cell_type": "markdown",
   "metadata": {
    "hideCode": false,
    "hidePrompt": false
   },
   "source": [
    "The following example demonstrates solving a randomly generated puzzle taking 10 moves backwards from the goal state. The puzzle is solved with a-star using the h2 hueristic and a maximum of 500 nodes. "
   ]
  },
  {
   "cell_type": "code",
   "execution_count": 8,
   "metadata": {
    "collapsed": false,
    "hideCode": false,
    "hidePrompt": false
   },
   "outputs": [
    {
     "name": "stdout",
     "output_type": "stream",
     "text": [
      "Solution found!\n",
      "Solution Length:  2\n",
      "Solution Path ['start', 'left', 'left', 'goal']\n",
      "Total nodes generated: 5\n"
     ]
    }
   ],
   "source": [
    "%run play_puzzle.py -randomizeState 10 -solveAStar h2 -maxNodes 500"
   ]
  },
  {
   "cell_type": "markdown",
   "metadata": {
    "hideCode": false,
    "hidePrompt": false
   },
   "source": [
    "The algorithm correctly solves the puzzle with both heuristics as demonstrated. The efficiency of the a-star algorithm and a comparison between the two heuristics will be discussed in the effective branching factor section of this report. "
   ]
  },
  {
   "cell_type": "markdown",
   "metadata": {
    "hideCode": false,
    "hidePrompt": false
   },
   "source": [
    "## solveBeam\n",
    "\n",
    "The main part of the local beam search code is a loop that runs until either a solution is found or the maximum number of nodes is generated. Each iteration, all successor states of all current states are generated by finding all available moves. Each successor state is then checked to make sure that it has not already been considered. It if has not, then the algorithm will find the total cost of the state using the evaluation function (see Local Beam Search Background below). The successor states are then added to the priority queue and the queue is sorted by total cost. At the end of the iteration, the k best states (the width of the beam search) are retained from the list of successor states. The k best states then become the current states from which to generate all possible successor states on the next iteration. All nodes are added to a dictionary in order to find the solution path when the loop ends. The goal check occurs when a node is generated because the first time the goal state is encountered represents the end of local beam search. Once the solution is found, the dictionary of all nodes is passed to a function that finds and displays the solution path. \n",
    "\n",
    "### Local Beam Search Background\n",
    "Local beam search implements a priority queue as in a-star search, but the evaluation function does not take into account the path cost to reach the state. The evaluation function can be defined in any manner as long as it is zero at the goal state. The evaluation function I developed for local beam search is \n",
    "\n",
    "$$f(n) = h1(state) + h2(state)$$\n",
    "\n",
    "Where f(state) represents the total cost of the state, h1(state) represents the number of misplaced tiles from the goal state of the state, and h2 represents the sum of the Manhattan distances of the tiles in the state from the goal state. This evaluation function was selected because the h1 and h2 heuristics are both consistent and admissible and work well for solving a-star. \n",
    "\n",
    "A-star considers the path cost to each state when ranking the states whereas local beam only considers the evaluation function of the successor states. In effect, local beam is \"blind\" to the past and to any future beyond the next step (a-star is also \"blind\" to the future beyond the next step.) At each iteration, local beam search will calculate the total cost of all successors of all current states and order the successor states by lowest to highest cost. The algorithm will then retain the \"k\" best states for the next iteration. This limits the amount of states that need to be kept in memory. Local beam search with $k = 1$ is equivalent to hill climbing because the algorithm will just select the successor state with the lowest evaluation function. Local beam search with $k=\\infty$ is equal to breadth first search because the algorithm will expand every single state at the current depth before moving deeper in the search tree."
   ]
  },
  {
   "cell_type": "markdown",
   "metadata": {
    "hideCode": false,
    "hidePrompt": false
   },
   "source": [
    "``` python\n",
    "def local_beam(self, k=1, max_nodes = 10000, print_solution=True):\n",
    "        # Performs local beam search to solve the eight puzzle\n",
    "        # k is the number of successor states to consider on each iteration\n",
    "        # The evaluation function is h1 + h2, at each iteration, the next set of nodes \n",
    "        # will be the k nodes with the lowest score\n",
    "\n",
    "        self.starting_state = copy.deepcopy(self.state)\n",
    "        starting_state = copy.deepcopy(self.state)\n",
    "        # Check to see if the current state is already the goal\n",
    "        if starting_state == self.goal_state:\n",
    "            self.success(node_dict={}, num_nodes_generated=0)\n",
    "\n",
    "        # Create a reference dictionary of all states generated\n",
    "        all_nodes= {}\n",
    "\n",
    "        # Index for all nodes dictionary\n",
    "        node_index = 0\n",
    "\n",
    "        all_nodes[node_index] = {\"state\": starting_state, \"parent\": \"root\", \"action\": \"start\"}\n",
    "\n",
    "        # Score for starting state\n",
    "        starting_score = self.calculate_h1_heuristic(starting_state) + \n",
    "                          self.calculate_h2_heuristic(starting_state)\n",
    "\n",
    "        # Available nodes is all the possible states that can be accessed \n",
    "        # from the current state stored as an (index, score) tuple\n",
    "        available_nodes = [(node_index, starting_score)]\n",
    "                \n",
    "        failure = False\n",
    "\n",
    "        while not failure:\n",
    "\n",
    "            # Check to see if the number of nodes generated exceeds max nodes\n",
    "            if node_index >= max_nodes:\n",
    "                failure = True\n",
    "                print(\"No Solution Found in first {} generated nodes\".format(max_nodes))\n",
    "                break\n",
    "              \n",
    "            # Successor nodes are all the nodes that can be reached from all of the \n",
    "            # available states. At each iteration, this is reset to an empty list  \n",
    "            successor_nodes = []\n",
    "\n",
    "            # Iterate through all the possible nodes that can be visited\n",
    "            for node in available_nodes:\n",
    "\n",
    "                repeat = False\n",
    "\n",
    "                # Find the current state\n",
    "                current_state = all_nodes[node[0]][\"state\"]\n",
    "\n",
    "                # Find the actions corresponding to the state\n",
    "                available_actions, _, _ = self.get_available_actions(current_state)\n",
    "\n",
    "                # Iterate through each action that is allowed\n",
    "                for action in available_actions:\n",
    "                    # Find the successor state for each action\n",
    "                    successor_state = self.move(current_state, action)\n",
    "\n",
    "                    # Check if the state has already been seen\n",
    "                    for node_num, node in all_nodes.items():\n",
    "                        if node[\"state\"] == successor_state:\n",
    "                            if node[\"parent\"] == current_state:\n",
    "                                repeat = True\n",
    "                                \n",
    "                    # Check if the state is the goal state\n",
    "                    # If the best state is the goal, stop iteration\n",
    "                    if successor_state == self.goal_state:\n",
    "                        all_nodes[node_index] = {\"state\": successor_state, \n",
    "                                \"parent\": current_state, \"action\": action}\n",
    "                        self.expanded_nodes = all_nodes\n",
    "                        self.num_nodes_generated = node_index + 1\n",
    "                        self.success(all_nodes, node_index, print_solution)\n",
    "                        break\n",
    "\n",
    "                    if not repeat:\n",
    "                        node_index += 1\n",
    "                        # Calculate the score of the state\n",
    "                        score = (self.calculate_h1_heuristic(successor_state) + \n",
    "                                    self.calculate_h2_heuristic(successor_state))\n",
    "                        # Add the state to the list of of nodes\n",
    "                        all_nodes[node_index] = {\"state\": successor_state, \n",
    "                                \"parent\": current_state, \"action\": action}\n",
    "                        \n",
    "                        # Add the state to the successor_nodes list\n",
    "                        successor_nodes.append((node_index, score))\n",
    "                    else:\n",
    "                        continue\n",
    "\n",
    "                    \n",
    "            # The available nodes are now all the successor nodes sorted by score\n",
    "            available_nodes = sorted(successor_nodes, key=lambda x: x[1])\n",
    "\n",
    "            # Choose only the k best successor states\n",
    "            if k < len(available_nodes):\n",
    "                available_nodes = available_nodes[:k]\n",
    "\n",
    "            \n",
    "```"
   ]
  },
  {
   "cell_type": "markdown",
   "metadata": {
    "hideCode": false,
    "hidePrompt": false
   },
   "source": [
    "The following example demonstrates solving the eight puzzle using local beam search with a beam width of 10 and the maximum number of default nodes (10000). This solution has a true length of 4. "
   ]
  },
  {
   "cell_type": "code",
   "execution_count": 9,
   "metadata": {
    "collapsed": false,
    "hideCode": false,
    "hidePrompt": false
   },
   "outputs": [
    {
     "name": "stdout",
     "output_type": "stream",
     "text": [
      "Solution found!\n",
      "Solution Length:  4\n",
      "Solution Path ['start', 'up', 'up', 'left', 'left', 'goal']\n",
      "Total nodes generated: 21\n",
      "\n",
      "Starting State\n",
      "-------------\n",
      "| 1 | 2 | 5 |\n",
      "-------------\n",
      "| 3 | 4 | 8 |\n",
      "-------------\n",
      "| 6 | 7 | 0 |\n",
      "\n",
      "Depth: 1\n",
      "-------------\n",
      "| 1 | 2 | 5 |\n",
      "-------------\n",
      "| 3 | 4 | 0 |\n",
      "-------------\n",
      "| 6 | 7 | 8 |\n",
      "\n",
      "Depth: 2\n",
      "-------------\n",
      "| 1 | 2 | 0 |\n",
      "-------------\n",
      "| 3 | 4 | 5 |\n",
      "-------------\n",
      "| 6 | 7 | 8 |\n",
      "\n",
      "Depth: 3\n",
      "-------------\n",
      "| 1 | 0 | 2 |\n",
      "-------------\n",
      "| 3 | 4 | 5 |\n",
      "-------------\n",
      "| 6 | 7 | 8 |\n",
      "\n",
      "GOAL!!!!!!!!!\n",
      "-------------\n",
      "| 0 | 1 | 2 |\n",
      "-------------\n",
      "| 3 | 4 | 5 |\n",
      "-------------\n",
      "| 6 | 7 | 8 |\n",
      "\n",
      "\n"
     ]
    }
   ],
   "source": [
    "%run play_puzzle.py -setState \"125 348 67b\" -solveBeam 10 -prettyPrintSolution"
   ]
  },
  {
   "cell_type": "markdown",
   "metadata": {
    "hideCode": false,
    "hidePrompt": false
   },
   "source": [
    "The following example shows randomizing the state with 20 random moves from the goal state, and finding the solution using local beam search with a beam width of 10 and a maximum of 5000 nodes. "
   ]
  },
  {
   "cell_type": "code",
   "execution_count": 10,
   "metadata": {
    "collapsed": false,
    "hideCode": false,
    "hidePrompt": false
   },
   "outputs": [
    {
     "name": "stdout",
     "output_type": "stream",
     "text": [
      "Solution found!\n",
      "Solution Length:  8\n",
      "Solution Path ['start', 'up', 'up', 'right', 'down', 'right', 'up', 'left', 'left', 'goal']\n",
      "Total nodes generated: 86\n"
     ]
    }
   ],
   "source": [
    "%run play_puzzle.py -randomizeState 20 -solveBeam 10 -maxNodes 5000"
   ]
  },
  {
   "cell_type": "markdown",
   "metadata": {
    "hideCode": false,
    "hidePrompt": false
   },
   "source": [
    "Local beam with a beam width of 10 is able to find the solution. However, local beam [can get stuck in local optima](https://www.ics.uci.edu/~rickl/courses/cs-171/cs171-lecture-slides/cs-171-05-LocalSearch.pdf) if the beam width is too narrow. "
   ]
  },
  {
   "cell_type": "markdown",
   "metadata": {
    "hideCode": false,
    "hidePrompt": false
   },
   "source": [
    "## readCommands"
   ]
  },
  {
   "cell_type": "markdown",
   "metadata": {
    "hideCode": false,
    "hidePrompt": false
   },
   "source": [
    "Another requirement of this project was that the program should be able to read a sequence of commands from a text file. This was implemented in the play_puzzle.py function using file parsing. "
   ]
  },
  {
   "cell_type": "markdown",
   "metadata": {
    "hideCode": false,
    "hidePrompt": false
   },
   "source": [
    "The following example illustrates using a text file to set the state of the puzzle, displaying the initial state of the puzzle, and then solving the puzzle using local beam with a beam width of 50 and 2000 nodes max. "
   ]
  },
  {
   "cell_type": "code",
   "execution_count": 11,
   "metadata": {
    "collapsed": false,
    "hideCode": false,
    "hidePrompt": false
   },
   "outputs": [
    {
     "name": "stdout",
     "output_type": "stream",
     "text": [
      "Current puzzle state:\n",
      "3b2 615 748\n",
      "Solution found!\n",
      "Solution Length:  5\n",
      "Solution Path ['start', 'down', 'down', 'left', 'up', 'up', 'goal']\n",
      "Total nodes generated: 52\n"
     ]
    }
   ],
   "source": [
    "%run play_puzzle.py -readCommands \"tests\\set_state_solve_beam.txt\""
   ]
  },
  {
   "cell_type": "markdown",
   "metadata": {
    "hideCode": false,
    "hidePrompt": false
   },
   "source": [
    "Contents of \"set_state_solve_beam.txt\":\n",
    "\n",
    "```setState \"3b2 615 748\" printState solveBeam 50 maxNodes 2000```"
   ]
  },
  {
   "cell_type": "markdown",
   "metadata": {
    "hideCode": false,
    "hidePrompt": false
   },
   "source": [
    "The following example illustrates using a text file to randomize the state of the puzzle with 16 random steps back from the goal, solving the puzzle using a-star with the h2 heuristic, and pretty printing the solution path in an understandable format. "
   ]
  },
  {
   "cell_type": "code",
   "execution_count": 12,
   "metadata": {
    "collapsed": false,
    "hideCode": false,
    "hidePrompt": false
   },
   "outputs": [
    {
     "name": "stdout",
     "output_type": "stream",
     "text": [
      "Solution found!\n",
      "Solution Length:  6\n",
      "Solution Path ['start', 'left', 'down', 'right', 'up', 'left', 'left', 'goal']\n",
      "Total nodes generated: 19\n",
      "\n",
      "Starting State\n",
      "-------------\n",
      "| 1 | 5 | 0 |\n",
      "-------------\n",
      "| 3 | 2 | 4 |\n",
      "-------------\n",
      "| 6 | 7 | 8 |\n",
      "\n",
      "Depth: 1\n",
      "-------------\n",
      "| 1 | 0 | 5 |\n",
      "-------------\n",
      "| 3 | 2 | 4 |\n",
      "-------------\n",
      "| 6 | 7 | 8 |\n",
      "\n",
      "Depth: 2\n",
      "-------------\n",
      "| 1 | 2 | 5 |\n",
      "-------------\n",
      "| 3 | 0 | 4 |\n",
      "-------------\n",
      "| 6 | 7 | 8 |\n",
      "\n",
      "Depth: 3\n",
      "-------------\n",
      "| 1 | 2 | 5 |\n",
      "-------------\n",
      "| 3 | 4 | 0 |\n",
      "-------------\n",
      "| 6 | 7 | 8 |\n",
      "\n",
      "Depth: 4\n",
      "-------------\n",
      "| 1 | 2 | 0 |\n",
      "-------------\n",
      "| 3 | 4 | 5 |\n",
      "-------------\n",
      "| 6 | 7 | 8 |\n",
      "\n",
      "Depth: 5\n",
      "-------------\n",
      "| 1 | 0 | 2 |\n",
      "-------------\n",
      "| 3 | 4 | 5 |\n",
      "-------------\n",
      "| 6 | 7 | 8 |\n",
      "\n",
      "GOAL!!!!!!!!!\n",
      "-------------\n",
      "| 0 | 1 | 2 |\n",
      "-------------\n",
      "| 3 | 4 | 5 |\n",
      "-------------\n",
      "| 6 | 7 | 8 |\n",
      "\n",
      "\n"
     ]
    }
   ],
   "source": [
    "%run play_puzzle.py -readCommands \"tests\\randomize_solve_astar.txt\""
   ]
  },
  {
   "cell_type": "markdown",
   "metadata": {
    "hideCode": false,
    "hidePrompt": false
   },
   "source": [
    "Contents of \"randomize_solve_astar.txt\":\n",
    "\n",
    "```randomizeState 16 solveAStar h2 prettyPrintSolution```"
   ]
  },
  {
   "cell_type": "markdown",
   "metadata": {
    "hideCode": false,
    "hidePrompt": false
   },
   "source": [
    "The above examples demonstate that the program meets all of the requirements as specified in the project description. The final step of the project is to investigate the efficiency of the two algorithms and the two heuristics. Algorithmic efficiency can best be quantified by the effective branching factor. "
   ]
  },
  {
   "cell_type": "markdown",
   "metadata": {
    "hideCode": false,
    "hidePrompt": false
   },
   "source": [
    "# Efficiency Calculations\n",
    "\n",
    "## Effective Branching Factor"
   ]
  },
  {
   "cell_type": "markdown",
   "metadata": {
    "hideCode": false,
    "hidePrompt": false
   },
   "source": [
    "The branching factor for a specific node is the number of successor states generated by that node. The [effective branching factor](http://ozark.hendrix.edu/~ferrer/courses/335/f11/lectures/effective-branching.html) is an estimate for the number of successor states generated by a typical node. The formula to find the effective branching factor is:\n",
    "\n",
    "$$ N = b_{eff} + b_{eff}^2 +  b_{eff}^3 + ... + b_{eff} ^ d $$ \n",
    "\n",
    "where N is the total number of nodes generated, $b\\_{eff}$ is the effective branching factor, and d is the length of the solution path. "
   ]
  },
  {
   "cell_type": "markdown",
   "metadata": {
    "hideCode": false,
    "hidePrompt": false
   },
   "source": [
    "To calculate the effective branching factor, I generated 100 starting states for each solution length from 2 moves to 24 moves (by 2). This was done by taking moves backwards from the goal state with the condition that no state could be repeated twice as shown in the following code. "
   ]
  },
  {
   "cell_type": "markdown",
   "metadata": {
    "hideCode": false,
    "hidePrompt": false
   },
   "source": [
    "```python\n",
    "# Generate a list of integers from 2 to 22 by 2\n",
    "solution_lengths = list(np.arange(2,24,2))\n",
    "\n",
    "# Create a dictionary to store the starting states\n",
    "# The format of the dictionary is number of actions in solution path: starting state\n",
    "starting_states = {}\n",
    "\n",
    "# Iterate through the wanted solution path lengths \n",
    "for solution_length in solution_lengths:\n",
    "    print(solution_length)\n",
    "    starting_states[solution_length] = []\n",
    "    \n",
    "    # Store 100 starting states for each solution length\n",
    "    while len(starting_states[solution_length]) < 100:\n",
    "        puzzle.set_goal_state()\n",
    "        states = [puzzle.goal_state]\n",
    "        while len(states) < solution_length + 1:\n",
    "            # Retrieve the possible actions, choose one at random, \n",
    "            # and generate the next state by moving\n",
    "            available_actions, _, _ = puzzle.get_available_actions(puzzle.state)\n",
    "            next_action = random.choice(available_actions)\n",
    "            new_state = puzzle.move(state = puzzle.state, action = next_action)\n",
    "            # If this move is not already in the sequence add it on\n",
    "            # This ensures that the solution length will be equal to the \n",
    "            # specified solution length\n",
    "            if new_state not in states:\n",
    "                states.append(new_state)\n",
    "                puzzle.state = new_state\n",
    "                \n",
    "        # Append the starting state to the dictionary\n",
    "        starting_states[solution_length].append(states[-1])\n",
    "```"
   ]
  },
  {
   "cell_type": "markdown",
   "metadata": {
    "hideCode": false,
    "hidePrompt": false
   },
   "source": [
    "For each solution path length, there are 100 starting states. To evaluate both algorithms and the two heuristics, I iterated through all of these starting states and solved them using the a-star search with the h1 and h2 heuristics and local beam search using a beam width of 10 and 100. I recorded the number of nodes generated by each algorithm in finding the solution and then took the average across the 100 puzzles. \n",
    "\n",
    "The average number of nodes generated for each algorithm are shown in the table below:\n",
    "\n",
    "<center><h3> Nodes Generated for Algorithms on the Eight Puzzle </h3></center>\n",
    "\n",
    "\n",
    "|    | A* using h1 | A* using h2 | Local Beam k = 100 | Local Beam k = 10 |\n",
    "|:--:|:-----------:|:-----------:|:------------------:|:-----------------:|\n",
    "|  d |             |             |                    |                   |\n",
    "|  2 |      6      |      6      |         13         |         13        |\n",
    "|  4 |      12     |      12     |         47         |         39        |\n",
    "|  6 |      24     |      19     |         162        |         70        |\n",
    "|  8 |      44     |      29     |         421        |        101        |\n",
    "| 10 |     101     |      45     |         678        |        155        |\n",
    "| 12 |     238     |      80     |         976        |        236        |\n",
    "| 14 |     580     |     144     |        1236        |        427        |\n",
    "| 16 |     1276    |     276     |        1459        |        615        |\n",
    "| 18 |     2814    |     435     |        1735        |        603        |\n",
    "| 20 |     5210    |     688     |                    |                   |\n",
    "| 22 |             |     1072    |                    |                   |\n",
    "| 24 |             |     1544    |                    |                   |\n",
    "\n"
   ]
  },
  {
   "cell_type": "markdown",
   "metadata": {
    "hideCode": false,
    "hidePrompt": false
   },
   "source": [
    "The effective branching factor can then be calculated by solving the equation described previously. This equation was solved by moving all terms of the equation to one side and finding the root of the equation. \n",
    "\n",
    "The branching factors of the algorithms are summarized in the table below:\n",
    "\n",
    "<center><h3> Branching Factors of Search Algorithms on the Eight Puzzle </h3></center>\n",
    "\n",
    "|    | A* using h1 | A* using h2 | Local Beam k = 100 | Local Beam k = 10 |\n",
    "|:--:|:-----------:|:-----------:|:------------------:|:-----------------:|\n",
    "|  d |             |             |                    |                   |\n",
    "|  2 |      2      |      2      |        3.14        |        3.14       |\n",
    "|  4 |     1.49    |     1.49    |        2.29        |        2.17       |\n",
    "|  6 |     1.42    |     1.34    |        2.10        |        1.79       |\n",
    "|  8 |     1.38    |     1.28    |        1.95        |        1.58       |\n",
    "| 10 |     1.41    |     1.26    |        1.77        |        1.48       |\n",
    "| 12 |     1.43    |     1.27    |        1.64        |        1.43       |\n",
    "| 14 |     1.45    |     1.28    |        1.54        |        1.41       |\n",
    "| 16 |     1.45    |     1.30    |        1.47        |        1.38       |\n",
    "| 18 |     1.46    |     1.29    |        1.41        |        1.32       |\n",
    "| 20 |     1.45    |     1.29    |                    |                   |\n",
    "| 22 |             |     1.32    |                    |                   |\n",
    "| 24 |             |     1.35    |                    |                   |\n"
   ]
  },
  {
   "cell_type": "markdown",
   "metadata": {
    "collapsed": true,
    "hideCode": false,
    "hidePrompt": false
   },
   "source": [
    "## Visualization of Efficiency"
   ]
  },
  {
   "cell_type": "markdown",
   "metadata": {
    "hideCode": false,
    "hidePrompt": false
   },
   "source": [
    "Using the R programming language, I quickly visualized the efficiency of the two algorithms. a_star_h1 refers to the a-star algorithm using the h1 heuristic, a_star_h2 refers to the a-star algorithm using the h2 heuristic, local_beam_10 refers to the local beam algorithm with a beam width of 10, and local_beam_100 refers to the local beam algorithm with a beam width of 100."
   ]
  },
  {
   "cell_type": "markdown",
   "metadata": {
    "hideCode": false,
    "hidePrompt": false
   },
   "source": [
    "```R\n",
    "ggplot(generated, aes(d, nodes_generated, color = algorithm)) + \n",
    "geom_jitter(size = 3) + geom_line(aes(color = algorithm)) + \n",
    "xlab(\"Solution Depth\") + ylab(\"Nodes Generated\") +\n",
    "ggtitle(\"Nodes Generated vs Solution Depth Broken Out by Algorithm\")\n",
    "```"
   ]
  },
  {
   "cell_type": "markdown",
   "metadata": {
    "hideCode": false,
    "hidePrompt": false
   },
   "source": [
    "<img src=\"images/nodes_generated.png\">"
   ]
  },
  {
   "cell_type": "markdown",
   "metadata": {
    "hideCode": false,
    "hidePrompt": false
   },
   "source": [
    "```R\n",
    "ggplot(effective, aes(d, effective_branching, color = algorithm)) + \n",
    "geom_jitter(size = 2) + geom_line(aes(color = algorithm)) + \n",
    "xlab(\"Solution Depth\") + ylab(\"Effective Braching Factor\") + \n",
    "ggtitle(\"Effective Branching Factor vs Solution Depth Broken Out by Algorithm\")\n",
    "```"
   ]
  },
  {
   "cell_type": "markdown",
   "metadata": {
    "hideCode": false,
    "hidePrompt": false
   },
   "source": [
    "<img src=\"images/effective_branching.png\">"
   ]
  },
  {
   "cell_type": "markdown",
   "metadata": {
    "hideCode": false,
    "hidePrompt": false
   },
   "source": []
  },
  {
   "cell_type": "markdown",
   "metadata": {
    "collapsed": true,
    "hideCode": false,
    "hidePrompt": false
   },
   "source": [
    "# Conclusions"
   ]
  },
  {
   "cell_type": "markdown",
   "metadata": {
    "hideCode": false,
    "hidePrompt": false
   },
   "source": [
    "The eight puzzle is a wonderful problem for exploring the basics of search algorithms. In this project, I solved the eight puzzle using a-star seach with two different heuristics, and using local beam with two beam widths. Further work on the eight puzzle could involve solving the puzzle using a-star search informed by a more sophisticated heuristic such as [that developed by](https://cse.sc.edu/~mgv/csce580sp15/gradPres/HanssonMayerYung1992.pdf) Hanson et al in 1992. Other intriuging avenues for exploring the eight puzzle could involve training a neural network to solve the puzzle using the sequence of actions as a label and the starting state as a feature. Graduate work [done by Peterson in 2013](http://homepages.cae.wisc.edu/~ece539/fall13/project/Peterson_rpt.pdf) used neural networks to attempt to derive a better heuristic for the eight puzzle. I would like to acknowledge the help provided by the resources linked to in the report as well as the textbook [Artificial Intelligence: A Modern Approach](http://aima.cs.berkeley.edu/) written by Russell and Norvig. I thoroughly enjoyed developing an eight puzzle solver using search algorithms and am looking forward to greater challenges in the field of artificial intelligence."
   ]
  }
 ],
 "metadata": {
  "hide_code_all_hidden": false,
  "kernelspec": {
   "display_name": "Python 3",
   "language": "python",
   "name": "python3"
  },
  "language_info": {
   "codemirror_mode": {
    "name": "ipython",
    "version": 3
   },
   "file_extension": ".py",
   "mimetype": "text/x-python",
   "name": "python",
   "nbconvert_exporter": "python",
   "pygments_lexer": "ipython3",
   "version": "3.6.0"
  }
 },
 "nbformat": 4,
 "nbformat_minor": 2
}
