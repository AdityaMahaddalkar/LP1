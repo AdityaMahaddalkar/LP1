{
 "cells": [
  {
   "cell_type": "markdown",
   "metadata": {},
   "source": [
    "# Constraint Satisfaction Problems Lab\n",
    "\n",
    "## Introduction\n",
    "Constraint Satisfaction is a technique for solving problems by expressing limits on the values of each variable in the solution with mathematical constraints.  We've used constraints before -- constraints in the Sudoku project are enforced implicitly by filtering the legal values for each box, and the planning project represents constraints as arcs connecting nodes in the planning graph -- but in this lab exercise we will use a symbolic math library to explicitly construct binary constraints and then use Backtracking to solve the N-queens problem (which is a generalization [8-queens problem](https://en.wikipedia.org/wiki/Eight_queens_puzzle)).  Using symbolic constraints should make it easier to visualize and reason about the constraints (especially for debugging), but comes with a performance penalty.\n",
    "\n",
    "![8-queens puzzle solution](EightQueens.gif)\n",
    "\n",
    "Briefly, the 8-queens problem asks you to place 8 queens on a standard 8x8 chessboard such that none of the queens are in \"check\" (i.e., no two queens occupy the same row, column, or diagonal). The N-queens problem generalizes the puzzle to to any size square board.\n",
    "\n",
    "## I. Lab Overview\n",
    "Students should read through the code and the wikipedia page (or other resources) to understand the N-queens problem, then:\n",
    "\n",
    "0. Complete the warmup exercises in the [Sympy_Intro notebook](Sympy_Intro.ipynb) to become familiar with they sympy library and symbolic representation for constraints\n",
    "0. Implement the [NQueensCSP class](#II.-Representing-the-N-Queens-Problem) to develop an efficient encoding of the N-queens problem and explicitly generate the constraints bounding the solution\n",
    "0. Write the [search functions](#III.-Backtracking-Search) for recursive backtracking, and use them to solve the N-queens problem\n",
    "0. (Optional) Conduct [additional experiments](#IV.-Experiments-%28Optional%29) with CSPs and various modifications to the search order (minimum remaining values, least constraining value, etc.)"
   ]
  },
  {
   "cell_type": "code",
   "execution_count": 18,
   "metadata": {},
   "outputs": [],
   "source": [
    "import matplotlib as mpl\n",
    "import matplotlib.pyplot as plt\n",
    "\n",
    "from util import constraint, displayBoard\n",
    "from sympy import *\n",
    "from IPython.display import display\n",
    "init_printing()\n",
    "%matplotlib inline"
   ]
  },
  {
   "cell_type": "markdown",
   "metadata": {},
   "source": [
    "## II. Representing the N-Queens Problem\n",
    "There are many acceptable ways to represent the N-queens problem, but one convenient way is to recognize that one of the constraints (either the row or column constraint) can be enforced implicitly by the encoding.  If we represent a solution as an array with N elements, then each position in the array can represent a column of the board, and the value at each position can represent which row the queen is placed on.\n",
    "\n",
    "In this encoding, we only need a constraint to make sure that no two queens occupy the same row, and one to make sure that no two queens occupy the same diagonal.\n",
    "\n",
    "### Define Symbolic Expressions for the Problem Constraints\n",
    "Before implementing the board class, we need to construct the symbolic constraints that will be used in the CSP.  Declare any symbolic terms required, and then declare two generic constraint generators:\n",
    "- `diffRow` - generate constraints that return True if the two arguments do not match\n",
    "- `diffDiag` - generate constraints that return True if two arguments are not on the same diagonal (Hint: you can easily test whether queens in two columns are on the same diagonal by testing if the difference in the number of rows and the number of columns match)\n",
    "\n",
    "Both generators should produce binary constraints (i.e., each should have two free symbols) once they're bound to specific variables in the CSP.  For example, Eq((a + b), (b + c)) is not a binary constraint, but Eq((a + b), (b + c)).subs(b, 1) _is_ a binary constraint because one of the terms has been bound to a constant, so there are only two free variables remaining. "
   ]
  },
  {
   "cell_type": "code",
   "execution_count": 19,
   "metadata": {},
   "outputs": [
    {
     "data": {
      "image/png": "[encoded data removed]",
      "text/latex": [
       "$$\\mathrm{True}$$"
      ],
      "text/plain": [
       "True"
      ]
     },
     "metadata": {},
     "output_type": "display_data"
    },
    {
     "name": "stdout",
     "output_type": "stream",
     "text": [
      "None\n"
     ]
    }
   ],
   "source": [
    "x, y = symbols('x y')\n",
    "\n",
    "const = constraint('const', Ne(x,y))\n",
    "\n",
    "res = const.subs({x:1, y:2})\n",
    "display(res)\n",
    "\n",
    "a = set([2,3,4])\n",
    "print(a.remove(2))\n"
   ]
  },
  {
   "cell_type": "code",
   "execution_count": 20,
   "metadata": {},
   "outputs": [
    {
     "data": {
      "image/png": "[encoded data removed]",
      "text/latex": [
       "$$\\mathrm{False}$$"
      ],
      "text/plain": [
       "False"
      ]
     },
     "metadata": {},
     "output_type": "display_data"
    }
   ],
   "source": [
    "# Declare any required symbolic variables\n",
    "X = symbols(\"X:2\") # rows of the queens\n",
    "Y = symbols(\"Y:2\") # colums of the queens \n",
    "\n",
    "# Define diffRow and diffDiag constraints\n",
    "diffRow = constraint('diffRow', Ne(X[0], X[1]))\n",
    "diffDiag = constraint('diffDiag', Ne(Abs(X[0]-X[1]), Abs(Y[0]-Y[1])))\n",
    "\n",
    "res = diffDiag.subs({X[0]: 4, X[1]:1, Y[0]:6, Y[1]:3})\n",
    "display(res)\n"
   ]
  },
  {
   "cell_type": "code",
   "execution_count": 21,
   "metadata": {},
   "outputs": [
    {
     "data": {
      "image/png": "[encoded data removed]",
      "text/latex": [
       "$$\\operatorname{diffRow}{\\left (x_{1},x_{0} \\right )}$$"
      ],
      "text/plain": [
       "diffRow(x₁, x₀)"
      ]
     },
     "metadata": {},
     "output_type": "display_data"
    },
    {
     "name": "stdout",
     "output_type": "stream",
     "text": [
      "{x1, x0}\n",
      "Passed all diffRow tests.\n"
     ]
    },
    {
     "data": {
      "image/png": "[encoded data removed]",
      "text/latex": [
       "$$\\operatorname{diffDiag}{\\left (X_{1},Y_{1},X_{0},Y_{0} \\right )}$$"
      ],
      "text/plain": [
       "diffDiag(X₁, Y₁, X₀, Y₀)"
      ]
     },
     "metadata": {},
     "output_type": "display_data"
    },
    {
     "name": "stdout",
     "output_type": "stream",
     "text": [
      "Passed all diffDiag tests.\n"
     ]
    }
   ],
   "source": [
    "# Test diffRow and diffDiag\n",
    "_x = symbols(\"x:3\")\n",
    "\n",
    "# generate a diffRow instance for testing\n",
    "#raise NotImplementedError(\"TODO: use your diffRow constraint to generate a diffRow constraint for _x[0] and _x[1]\")\n",
    "diffRow_test = diffRow.subs({X[0]: _x[0], X[1]:_x[1]})\n",
    "display(diffRow_test)\n",
    "print(diffRow_test.free_symbols)\n",
    "assert(len(diffRow_test.free_symbols) == 2)\n",
    "assert(diffRow_test.subs({_x[0]: 0, _x[1]: 1}) == True)\n",
    "assert(diffRow_test.subs({_x[0]: 0, _x[1]: 0}) == False)\n",
    "assert(diffRow_test.subs({_x[0]: 0}) != False)  # partial assignment is not false\n",
    "print(\"Passed all diffRow tests.\")\n",
    "\n",
    "# generate a diffDiag instance for testing\n",
    "#raise NotImplementedError(\"TODO: use your diffDiag constraint to generate a diffDiag constraint for _x[0] and _x[2]\")\n",
    "diffDiag_test = diffDiag.subs({Y[0]: 2, Y[1]:_x[2], X[0]:_x[0], X[1]:0})\n",
    "display(diffDiag)\n",
    "assert(len(diffDiag_test.free_symbols) == 2)\n",
    "assert(diffDiag_test.subs({_x[0]: 0, _x[2]: 2}) == False)\n",
    "assert(diffDiag_test.subs({_x[0]: 0, _x[2]: 0}) == True)\n",
    "assert(diffDiag_test.subs({_x[0]: 0}) != False)  # partial assignment is not false\n",
    "print(\"Passed all diffDiag tests.\")"
   ]
  },
  {
   "cell_type": "markdown",
   "metadata": {},
   "source": [
    "### The N-Queens CSP Class\n",
    "Implement the CSP class as described above, with constraints to make sure each queen is on a different row and different diagonal than every other queen, and a variable for each column defining the row that containing a queen in that column."
   ]
  },
  {
   "cell_type": "code",
   "execution_count": 22,
   "metadata": {},
   "outputs": [
    {
     "name": "stdout",
     "output_type": "stream",
     "text": [
      "[diffDiag(x2, x0), diffDiag(x1, x0), diffRow(x1, x2), diffDiag(x1, x2), diffRow(x1, x0), diffRow(x2, x0)]\n",
      "\n",
      "{x0: {diffRow(x2, x0), diffDiag(x2, x0), diffDiag(x1, x0), diffRow(x1, x0)}, x1: {diffDiag(x1, x2), diffDiag(x1, x0), diffRow(x1, x0), diffRow(x1, x2)}, x2: {diffRow(x2, x0), diffDiag(x2, x0), diffDiag(x1, x2), diffRow(x1, x2)}}\n",
      "{x0: {0, 1, 2}, x1: {0, 1, 2}, x2: {0, 1, 2}}\n"
     ]
    }
   ],
   "source": [
    "class NQueensCSP:\n",
    "    \"\"\"CSP representation of the N-queens problem\n",
    "    \n",
    "    Parameters\n",
    "    ----------\n",
    "    N : Integer\n",
    "        The side length of a square chess board to use for the problem, and\n",
    "        the number of queens that must be placed on the board\n",
    "    \"\"\"\n",
    "    def __init__(self, N):\n",
    "        #raise NotImplementedError(\"TODO: declare symbolic variables in self._vars in the CSP constructor\")\n",
    "        \n",
    "        _vars = symbols(\"x:\" + str(N))\n",
    "        _domain = set(range(N))\n",
    "        self.size = N\n",
    "        self.variables = _vars\n",
    "        self.domains = {v: _domain for v in _vars}\n",
    "        self._constraints = {x: set() for x in _vars}\n",
    "\n",
    "        # add constraints - for each pair of variables xi and xj, create\n",
    "        # a diffRow(xi, xj) and a diffDiag(xi, xj) instance, and add them\n",
    "        # to the self._constraints dictionary keyed to both xi and xj;\n",
    "        # (i.e., add them to both self._constraints[xi] and self._constraints[xj])\n",
    "        \n",
    "        for i, xi in enumerate(_vars):\n",
    "            for j, xj in enumerate([v for v in _vars if v != xi]):\n",
    "                rowConstraint = diffRow.subs({X[0]: xi, X[1]: xj})\n",
    "                colConstraint = diffDiag.subs({X[0]:xi, X[1]:xj, Y[0]: i, Y[1]: j})\n",
    "                self._constraints[xi].add(rowConstraint)\n",
    "                self._constraints[xi].add(colConstraint)\n",
    "                self._constraints[xj].add(rowConstraint)\n",
    "                self._constraints[xj].add(colConstraint)  \n",
    "        #raise NotImplementedError(\"TODO: add constraints in self._constraints in the CSP constructor\")\n",
    "        \n",
    "    @property\n",
    "    def constraints(self):\n",
    "        \"\"\"Read-only list of constraints -- cannot be used for evaluation \"\"\"\n",
    "        constraints = set()\n",
    "        for _cons in self._constraints.values():\n",
    "            constraints |= _cons\n",
    "        return list(constraints)\n",
    "    \n",
    "    def is_complete(self, assignment):\n",
    "        \"\"\"An assignment is complete if it is consistent, and all constraints\n",
    "        are satisfied.\n",
    "        \n",
    "        Hint: Backtracking search checks consistency of each assignment, so checking\n",
    "        for completeness can be done very efficiently\n",
    "        \n",
    "        Parameters\n",
    "        ----------\n",
    "        assignment : dict(sympy.Symbol: Integer)\n",
    "            An assignment of values to variables that have previously been checked\n",
    "            for consistency with the CSP constraints\n",
    "        \"\"\"\n",
    "        #print('Checking if complete')\n",
    "        #print([c.subs(assignment) for c in self.constraints])\n",
    "        if all(c.subs(assignment)==True for c in self.constraints):\n",
    "            return True\n",
    "        else:\n",
    "            return False\n",
    "        \n",
    "        #raise NotImplementedError(\"TODO: implement the is_complete() method of the CSP\")\n",
    "    \n",
    "    def is_consistent(self, var, value, assignment):\n",
    "        \"\"\"Check consistency of a proposed variable assignment\n",
    "                \n",
    "        self._constraints[x] returns a set of constraints that involve variable `x`.\n",
    "        An assignment is consistent unless the assignment it causes a constraint to\n",
    "        return False (partial assignments are always consistent).\n",
    "        \n",
    "        Parameters\n",
    "        ----------\n",
    "        var : sympy.Symbol\n",
    "            One of the symbolic variables in the CSP\n",
    "            \n",
    "        value : Numeric\n",
    "            A valid value (i.e., in the domain of) the variable `var` for assignment\n",
    "\n",
    "        assignment : dict(sympy.Symbol: Integer)\n",
    "            A dictionary mapping CSP variables to row assignment of each queen\n",
    "            \n",
    "        \"\"\"\n",
    "        assignment[var] = value\n",
    "        for c in self._constraints[var]:\n",
    "                if not c.subs(assignment):\n",
    "                    return False\n",
    "        \n",
    "        return True\n",
    "        #raise NotImplementedError(\"TODO: implement the is_consistent() method of the CSP\")\n",
    "        \n",
    "        \n",
    "    def inference(self, var, value, assignment):\n",
    "        \"\"\"Perform logical inference based on proposed variable assignment\n",
    "        \n",
    "        Returns an empty dictionary by default; function can be overridden to\n",
    "        check arc-, path-, or k-consistency; returning None signals \"failure\".\n",
    "        \n",
    "        Parameters\n",
    "        ----------\n",
    "        var : sympy.Symbol\n",
    "            One of the symbolic variables in the CSP\n",
    "        \n",
    "        value : Integer\n",
    "            A valid value (i.e., in the domain of) the variable `var` for assignment\n",
    "            \n",
    "        Returns\n",
    "        -------\n",
    "        dict(sympy.Symbol: Integer) or None\n",
    "            A partial set of values mapped to variables in the CSP based on inferred\n",
    "            constraints from previous mappings, or None to indicate failure\n",
    "        \"\"\"\n",
    "        # TODO (Optional): Implement this function based on AIMA discussion\n",
    "        for neighbor in [x for x in self.variables if x != var]:\n",
    "            domain_values = self.domains[neighbor]\n",
    "            possible_values = []\n",
    "            count = 0\n",
    "            for value in domain_values: # possible values\n",
    "                if self.is_consistent(neighbor, value, assignment):\n",
    "                    count += 1\n",
    "                    possible_values.append(value)\n",
    "                    if count > 1:\n",
    "                        break\n",
    "            #print('poss', possible_values)\n",
    "                                    \n",
    "            if count == 0: # failure \n",
    "                return None\n",
    "            if count == 1: # we can infer the value of the neighbor\n",
    "                assignment[neighbor] = possible_values[0]           \n",
    "                \n",
    "        return assignment\n",
    "    \n",
    "    def show(self, assignment):\n",
    "        \"\"\"Display a chessboard with queens drawn in the locations specified by an\n",
    "        assignment\n",
    "        \n",
    "        Parameters\n",
    "        ----------\n",
    "        assignment : dict(sympy.Symbol: Integer)\n",
    "            A dictionary mapping CSP variables to row assignment of each queen\n",
    "            \n",
    "        \"\"\"\n",
    "        locations = [(i, assignment[j]) for i, j in enumerate(self.variables)\n",
    "                     if assignment.get(j, None) is not None]\n",
    "        displayBoard(locations, self.size)\n",
    "        \n",
    "problem = NQueensCSP(3)\n",
    "print(problem.constraints)\n",
    "print()\n",
    "print(problem._constraints)\n",
    "print(problem.domains)\n"
   ]
  },
  {
   "cell_type": "markdown",
   "metadata": {
    "collapsed": true
   },
   "source": [
    "## III. Backtracking Search\n",
    "Implement the [backtracking search](https://github.com/aimacode/aima-pseudocode/blob/master/md/Backtracking-Search.md) algorithm (required) and helper functions (optional) from the AIMA text.  "
   ]
  },
  {
   "cell_type": "code",
   "execution_count": 61,
   "metadata": {},
   "outputs": [],
   "source": [
    "from copy import deepcopy \n",
    "\n",
    "def select(csp, assignment):\n",
    "    return trivial_select(csp, assignment)\n",
    "\n",
    "def trivial_select(csp, assignment):\n",
    "    \"\"\"Choose an unassigned variable in a constraint satisfaction problem \"\"\"\n",
    "    # TODO (Optional): Implement a more sophisticated selection routine from AIMA\n",
    "    for var in csp.variables:\n",
    "        if var not in assignment:\n",
    "            return var\n",
    "    return None\n",
    "\n",
    "def minimum_remaining_values_select(csp, assignment):\n",
    "    minConstraints = 1000*csp.size\n",
    "    for var, c in csp._constraints.items():\n",
    "        if var not in assignment:\n",
    "            numConstraints = len(c)\n",
    "            if numConstraints < minConstraints:\n",
    "                minConstraints = numConstraints\n",
    "                bestVar = var\n",
    "    return bestVar\n",
    "                \n",
    "def degree_heuristic_select(csp, assignment):\n",
    "    print(assignment)\n",
    "    # Select the variable that is involved in the largest number of constraints on other not assigned variables\n",
    "    maxConstraints = 0\n",
    "    #print(assignment)\n",
    "    for var, constraints in csp._constraints.items():\n",
    "        if var not in assignment:\n",
    "            print(var)\n",
    "            # compute the constraints that are involved in not assigned variables \n",
    "            print('norm', len(constraints))\n",
    "            special_constraints = (\n",
    "                [c for c in constraints if [x for x in c.free_symbols if x != var][0] not in assignment])\n",
    "            print('spec', len(special_constraints))\n",
    "            numConstraints = len(special_constraints)\n",
    "            if numConstraints > maxConstraints:\n",
    "                maxConstraints = numConstraints\n",
    "                bestVar = var\n",
    "    print('bestVar', bestVar)\n",
    "    return bestVar\n",
    "\n",
    "def order_values(var, assignment, csp):\n",
    "    \"\"\"Select the order of the values in the domain of a variable for checking during search;\n",
    "    the default is lexicographically.\n",
    "    \"\"\"\n",
    "    # TODO (Optional): Implement a more sophisticated search ordering routine from AIMA\n",
    "    #toReturn = least_constraining_order_values(var, assignment, csp)\n",
    "    #toReturn2 = simple_order_values(var, assignment, csp)\n",
    "    return least_constraining_order_values(var, assignment, csp)\n",
    "\n",
    "def simple_order_values(var, assignment, csp):\n",
    "    print(var)\n",
    "    print(type(csp.domains[var]))\n",
    "    return csp.domains[var]\n",
    "\n",
    "def least_constraining_order_values(var, assignment, csp):\n",
    "    print('least')\n",
    "    valuesDict = {} # this variables counts the number of values ruled out by all neighbors combined \n",
    "                    # the key is the value assigned to the variable in question (i.e. var)\n",
    "                    # For example if valuesDict[2] = 7, then 7 combined values have been ruled \n",
    "                    # out for each neighbor of var assuming that var=2. \n",
    "                \n",
    "    for value in csp.domains[var]: # loop through each possible value of var \n",
    "        ruledOut = 0 # the number of values ruled out by all neighbors making the assignment that var=value\n",
    "        assignment[var] = value # make the actual assignment that var=value \n",
    "        # Now check how many variables this rules out for all neighbors combined\n",
    "        # Note that each variable is neighbor excluding itself \n",
    "        for neighbor in [x for x in csp.variables if x != var]:\n",
    "            for neighbor_value in csp.domains[neighbor]: # loop thru all possible values for the neighbor \n",
    "                if not csp.is_consistent(neighbor, neighbor_value, assignment): # the neighbor cannot \n",
    "                                                                                # take the value anymore \n",
    "                    ruledOut += 1 # this is summed over all neighbors of var \n",
    "        valuesDict[value] = ruledOut # track the number of \"ruled out\" values for neighbors \n",
    "    #print(valuesDict)\n",
    "    orderedValues = sorted(valuesDict, key=valuesDict.get)\n",
    "    #print(orderedValues)\n",
    "    print(valuesDict)\n",
    "    print(orderedValues)\n",
    "    return orderedValues\n",
    "          \n",
    "\n",
    "def backtracking_search(csp):\n",
    "    \"\"\"Helper function used to initiate backtracking search \"\"\"\n",
    "    return backtrack({}, csp)\n",
    "\n",
    "def backtrack(assignment, csp):\n",
    "    \"\"\"Perform backtracking search for a valid assignment to a CSP\n",
    "    \n",
    "    Parameters\n",
    "    ----------\n",
    "    assignment : dict(sympy.Symbol: Integer)\n",
    "        An partial set of values mapped to variables in the CSP\n",
    "        \n",
    "    csp : CSP\n",
    "        A problem encoded as a CSP. Interface should include csp.variables, csp.domains,\n",
    "        csp.inference(), csp.is_consistent(), and csp.is_complete().\n",
    "    \n",
    "    Returns\n",
    "    -------\n",
    "    dict(sympy.Symbol: Integer) or None\n",
    "        A partial set of values mapped to variables in the CSP, or None to indicate failure\n",
    "    \"\"\"\n",
    "    if csp.is_complete(assignment.copy()):\n",
    "        return assignment\n",
    "    var = select(deepcopy(csp), assignment.copy())\n",
    "    #print(assignment)\n",
    "    #print('Var selected is', var)\n",
    "    #print('Ordered values are ', order_values(var, assignment, csp))\n",
    "    #print(csp._constraints)\n",
    "    for value in order_values(var, assignment.copy(), deepcopy(csp)):\n",
    "        #print(value)\n",
    "        consistent = csp.is_consistent(var, value, assignment.copy())\n",
    "        if consistent:\n",
    "            #print('Is Consistent')\n",
    "            assignment[var] = value \n",
    "            #print(assignment)\n",
    "            inferences = csp.inference(var, value, assignment.copy())\n",
    "            print('Inferences', inferences)\n",
    "            if inferences is not None:\n",
    "                for k,v in inferences.items():\n",
    "                    assignment[k] = v\n",
    "                #print(assignment)\n",
    "                result = backtrack(assignment.copy(), deepcopy(csp))\n",
    "                if result:\n",
    "                    return result\n",
    "        if var in assignment:\n",
    "            assignment.pop(var,None)\n",
    "        if consistent and inferences is not None:\n",
    "            for k in inferences:\n",
    "                if k in assignment:\n",
    "                    assignment.pop(k, None)\n",
    "    return None \n",
    "                    \n",
    "            \n",
    "    #raise NotImplementedError(\"TODO: complete the backtrack function\")"
   ]
  },
  {
   "cell_type": "markdown",
   "metadata": {},
   "source": [
    "### Solve the CSP\n",
    "With backtracking implemented, now you can use it to solve instances of the problem. We've started with the classical 8-queen version, but you can try other sizes as well.  Boards larger than 12x12 may take some time to solve because sympy is slow in the way its being used here, and because the selection and value ordering methods haven't been implemented.  See if you can implement any of the techniques in the AIMA text to speed up the solver!"
   ]
  },
  {
   "cell_type": "code",
   "execution_count": 63,
   "metadata": {
    "scrolled": false
   },
   "outputs": [
    {
     "name": "stdout",
     "output_type": "stream",
     "text": [
      "CSP problems have variables, each variable has a domain, and the problem has a list of constraints.\n",
      "Showing the variables for the N-Queens CSP:\n"
     ]
    },
    {
     "data": {
      "image/png": "[encoded data removed]",
      "text/latex": [
       "$$\\left ( x_{0}, \\quad x_{1}, \\quad x_{2}, \\quad x_{3}, \\quad x_{4}, \\quad x_{5}, \\quad x_{6}, \\quad x_{7}, \\quad x_{8}, \\quad x_{9}, \\quad x_{10}, \\quad x_{11}, \\quad x_{12}, \\quad x_{13}\\right )$$"
      ],
      "text/plain": [
       "(x₀, x₁, x₂, x₃, x₄, x₅, x₆, x₇, x₈, x₉, x₁₀, x₁₁, x₁₂, x₁₃)"
      ]
     },
     "metadata": {},
     "output_type": "display_data"
    },
    {
     "name": "stdout",
     "output_type": "stream",
     "text": [
      "Showing domain for x0:\n"
     ]
    },
    {
     "data": {
      "image/png": "[encoded data removed]",
      "text/latex": [
       "$$\\left\\{0, 1, 2, 3, 4, 5, 6, 7, 8, 9, 10, 11, 12, 13\\right\\}$$"
      ],
      "text/plain": [
       "set([0, 1, 2, 3, 4, 5, 6, 7, 8, 9, 10, 11, 12, 13])"
      ]
     },
     "metadata": {},
     "output_type": "display_data"
    },
    {
     "name": "stdout",
     "output_type": "stream",
     "text": [
      "And showing the constraints for x0:\n"
     ]
    },
    {
     "data": {
      "image/png": "[encoded data removed]",
      "text/latex": [
       "$$\\left\\{\\operatorname{diffDiag}{\\left (x_{0},x_{11} \\right )}, \\operatorname{diffDiag}{\\left (x_{0},x_{5} \\right )}, \\operatorname{diffDiag}{\\left (x_{0},x_{9} \\right )}, \\operatorname{diffDiag}{\\left (x_{1},x_{0} \\right )}, \\operatorname{diffDiag}{\\left (x_{10},x_{0} \\right )}, \\operatorname{diffDiag}{\\left (x_{12},x_{0} \\right )}, \\operatorname{diffDiag}{\\left (x_{13},x_{0} \\right )}, \\operatorname{diffDiag}{\\left (x_{2},x_{0} \\right )}, \\operatorname{diffDiag}{\\left (x_{3},x_{0} \\right )}, \\operatorname{diffDiag}{\\left (x_{4},x_{0} \\right )}, \\operatorname{diffDiag}{\\left (x_{6},x_{0} \\right )}, \\operatorname{diffDiag}{\\left (x_{7},x_{0} \\right )}, \\operatorname{diffDiag}{\\left (x_{8},x_{0} \\right )}, \\operatorname{diffRow}{\\left (x_{0},x_{11} \\right )}, \\operatorname{diffRow}{\\left (x_{0},x_{4} \\right )}, \\operatorname{diffRow}{\\left (x_{0},x_{5} \\right )}, \\operatorname{diffRow}{\\left (x_{0},x_{9} \\right )}, \\operatorname{diffRow}{\\left (x_{1},x_{0} \\right )}, \\operatorname{diffRow}{\\left (x_{10},x_{0} \\right )}, \\operatorname{diffRow}{\\left (x_{12},x_{0} \\right )}, \\operatorname{diffRow}{\\left (x_{13},x_{0} \\right )}, \\operatorname{diffRow}{\\left (x_{2},x_{0} \\right )}, \\operatorname{diffRow}{\\left (x_{3},x_{0} \\right )}, \\operatorname{diffRow}{\\left (x_{4},x_{0} \\right )}, \\operatorname{diffRow}{\\left (x_{6},x_{0} \\right )}, \\operatorname{diffRow}{\\left (x_{7},x_{0} \\right )}, \\operatorname{diffRow}{\\left (x_{8},x_{0} \\right )}\\right\\}$$"
      ],
      "text/plain": [
       "set([diffDiag(x₀, x₁₁), diffDiag(x₀, x₅), diffDiag(x₀, x₉), diffDiag(x₁, x₀), \n",
       "diffDiag(x₁₀, x₀), diffDiag(x₁₂, x₀), diffDiag(x₁₃, x₀), diffDiag(x₂, x₀), dif\n",
       "fDiag(x₃, x₀), diffDiag(x₄, x₀), diffDiag(x₆, x₀), diffDiag(x₇, x₀), diffDiag(\n",
       "x₈, x₀), diffRow(x₀, x₁₁), diffRow(x₀, x₄), diffRow(x₀, x₅), diffRow(x₀, x₉), \n",
       "diffRow(x₁, x₀), diffRow(x₁₀, x₀), diffRow(x₁₂, x₀), diffRow(x₁₃, x₀), diffRow\n",
       "(x₂, x₀), diffRow(x₃, x₀), diffRow(x₄, x₀), diffRow(x₆, x₀), diffRow(x₇, x₀), \n",
       "diffRow(x₈, x₀)])"
      ]
     },
     "metadata": {},
     "output_type": "display_data"
    },
    {
     "name": "stdout",
     "output_type": "stream",
     "text": [
      "Solving N-Queens CSP...\n",
      "least\n",
      "{0: 109, 1: 145, 2: 143, 3: 142, 4: 140, 5: 139, 6: 137, 7: 137, 8: 137, 9: 138, 10: 138, 11: 139, 12: 139, 13: 140}\n",
      "[0, 6, 7, 8, 9, 10, 5, 11, 12, 4, 13, 3, 2, 1]\n",
      "Inferences None\n",
      "Inferences None\n",
      "Inferences None\n",
      "Inferences None\n",
      "Inferences None\n",
      "Inferences None\n",
      "Inferences None\n",
      "Inferences None\n",
      "Inferences None\n",
      "Inferences None\n",
      "Inferences None\n",
      "Inferences None\n",
      "Inferences None\n",
      "Inferences None\n",
      "No solution found.\n",
      "CPU times: user 1min 42s, sys: 306 ms, total: 1min 42s\n",
      "Wall time: 1min 43s\n"
     ]
    }
   ],
   "source": [
    "%%time\n",
    "num_queens = 14\n",
    "csp = NQueensCSP(num_queens)\n",
    "var = csp.variables[0]\n",
    "print(\"CSP problems have variables, each variable has a domain, and the problem has a list of constraints.\")\n",
    "print(\"Showing the variables for the N-Queens CSP:\")\n",
    "display(csp.variables)\n",
    "print(\"Showing domain for {}:\".format(var))\n",
    "display(csp.domains[var])\n",
    "print(\"And showing the constraints for {}:\".format(var))\n",
    "display(csp._constraints[var])\n",
    "\n",
    "print(\"Solving N-Queens CSP...\")\n",
    "assn = backtracking_search(csp)\n",
    "if assn is not None:\n",
    "    print('sol', assn)\n",
    "    csp.show(assn)\n",
    "    print(\"Solution found:\\n{!s}\".format(assn))\n",
    "else:\n",
    "    print(\"No solution found.\")\n",
    "\n"
   ]
  },
  {
   "cell_type": "markdown",
   "metadata": {},
   "source": [
    "## IV. Experiments (Optional)\n",
    "For each optional experiment, discuss the answers to these questions on the forum: Do you expect this change to be more efficient, less efficient, or the same?  Why or why not?  Is your prediction correct?  What metric did you compare (e.g., time, space, nodes visited, etc.)?\n",
    "\n",
    "- Implement a _bad_ N-queens solver: generate & test candidate solutions one at a time until a valid solution is found.  For example, represent the board as an array with $N^2$ elements, and let each element be True if there is a queen in that box, and False if it is empty.  Use an $N^2$-bit counter to generate solutions, then write a function to check if each solution is valid.  Notice that this solution doesn't require any of the techniques we've applied to other problems -- there is no DFS or backtracking, nor constraint propagation, or even explicitly defined variables.\n",
    "- Use more complex constraints -- i.e., generalize the binary constraint RowDiff to an N-ary constraint AllRowsDiff, etc., -- and solve the problem again.\n",
    "- Rewrite the CSP class to use forward checking to restrict the domain of each variable as new values are assigned.\n",
    "- The sympy library isn't very fast, so this version of the CSP doesn't work well on boards bigger than about 12x12.  Write a new representation of the problem class that uses constraint functions (like the Sudoku project) to implicitly track constraint satisfaction through the restricted domain of each variable.  How much larger can you solve?\n",
    "- Create your own CSP!"
   ]
  },
  {
   "cell_type": "code",
   "execution_count": null,
   "metadata": {
    "collapsed": true
   },
   "outputs": [],
   "source": []
  }
 ],
 "metadata": {
  "anaconda-cloud": {},
  "kernelspec": {
   "display_name": "Python 3",
   "language": "python",
   "name": "python3"
  },
  "language_info": {
   "codemirror_mode": {
    "name": "ipython",
    "version": 3
   },
   "file_extension": ".py",
   "mimetype": "text/x-python",
   "name": "python",
   "nbconvert_exporter": "python",
   "pygments_lexer": "ipython3",
   "version": "3.5.4"
  }
 },
 "nbformat": 4,
 "nbformat_minor": 1
}
